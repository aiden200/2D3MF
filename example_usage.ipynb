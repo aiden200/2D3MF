{
 "cells": [
  {
   "cell_type": "code",
   "execution_count": 1,
   "metadata": {},
   "outputs": [
    {
     "name": "stderr",
     "output_type": "stream",
     "text": [
      "/home/aiden/miniconda3/envs/marlin/lib/python3.9/site-packages/tqdm/auto.py:21: TqdmWarning: IProgress not found. Please update jupyter and ipywidgets. See https://ipywidgets.readthedocs.io/en/stable/user_install.html\n",
      "  from .autonotebook import tqdm as notebook_tqdm\n",
      "2024-04-25 18:04:45,995 - modelscope - INFO - PyTorch version 2.1.2 Found.\n",
      "2024-04-25 18:04:45,996 - modelscope - INFO - Loading ast index from /home/aiden/.cache/modelscope/ast_indexer\n",
      "2024-04-25 18:04:46,014 - modelscope - INFO - Loading done! Current index file version is 1.13.3, with md5 de16b94426d83b410c509c3f1bd5c5e6 and a total number of 972 components indexed\n"
     ]
    },
    {
     "name": "stdout",
     "output_type": "stream",
     "text": [
      "INFO 2024-04-25 18:04:46 face_crop.py: 33] Start to load the face detection model...\n",
      "WARNING 2024-04-25 18:04:46 warnings.py: 109] /home/aiden/miniconda3/envs/marlin/lib/python3.9/site-packages/torch/serialization.py:1101: SourceChangeWarning: source code of class 'models.network_def.retinaface_def.RetinaFace' has changed. you can retrieve the original source code by accessing the object's source attribute or set `torch.nn.Module.dump_patches = True` and use the patch tool to revert the changes.\n",
      "  warnings.warn(msg, SourceChangeWarning)\n",
      "\n",
      "WARNING 2024-04-25 18:04:46 warnings.py: 109] /home/aiden/miniconda3/envs/marlin/lib/python3.9/site-packages/torch/serialization.py:1101: SourceChangeWarning: source code of class 'torchvision.models._utils.IntermediateLayerGetter' has changed. you can retrieve the original source code by accessing the object's source attribute or set `torch.nn.Module.dump_patches = True` and use the patch tool to revert the changes.\n",
      "  warnings.warn(msg, SourceChangeWarning)\n",
      "\n",
      "WARNING 2024-04-25 18:04:46 warnings.py: 109] /home/aiden/miniconda3/envs/marlin/lib/python3.9/site-packages/torch/serialization.py:1101: SourceChangeWarning: source code of class 'torch.nn.modules.container.Sequential' has changed. you can retrieve the original source code by accessing the object's source attribute or set `torch.nn.Module.dump_patches = True` and use the patch tool to revert the changes.\n",
      "  warnings.warn(msg, SourceChangeWarning)\n",
      "\n",
      "WARNING 2024-04-25 18:04:46 warnings.py: 109] /home/aiden/miniconda3/envs/marlin/lib/python3.9/site-packages/torch/serialization.py:1101: SourceChangeWarning: source code of class 'torch.nn.modules.conv.Conv2d' has changed. you can retrieve the original source code by accessing the object's source attribute or set `torch.nn.Module.dump_patches = True` and use the patch tool to revert the changes.\n",
      "  warnings.warn(msg, SourceChangeWarning)\n",
      "\n",
      "WARNING 2024-04-25 18:04:46 warnings.py: 109] /home/aiden/miniconda3/envs/marlin/lib/python3.9/site-packages/torch/serialization.py:1101: SourceChangeWarning: source code of class 'torch.nn.modules.batchnorm.BatchNorm2d' has changed. you can retrieve the original source code by accessing the object's source attribute or set `torch.nn.Module.dump_patches = True` and use the patch tool to revert the changes.\n",
      "  warnings.warn(msg, SourceChangeWarning)\n",
      "\n",
      "WARNING 2024-04-25 18:04:46 warnings.py: 109] /home/aiden/miniconda3/envs/marlin/lib/python3.9/site-packages/torch/serialization.py:1101: SourceChangeWarning: source code of class 'torch.nn.modules.activation.LeakyReLU' has changed. you can retrieve the original source code by accessing the object's source attribute or set `torch.nn.Module.dump_patches = True` and use the patch tool to revert the changes.\n",
      "  warnings.warn(msg, SourceChangeWarning)\n",
      "\n",
      "WARNING 2024-04-25 18:04:46 warnings.py: 109] /home/aiden/miniconda3/envs/marlin/lib/python3.9/site-packages/torch/serialization.py:1101: SourceChangeWarning: source code of class 'models.network_def.retinaface_def.FPN' has changed. you can retrieve the original source code by accessing the object's source attribute or set `torch.nn.Module.dump_patches = True` and use the patch tool to revert the changes.\n",
      "  warnings.warn(msg, SourceChangeWarning)\n",
      "\n",
      "WARNING 2024-04-25 18:04:46 warnings.py: 109] /home/aiden/miniconda3/envs/marlin/lib/python3.9/site-packages/torch/serialization.py:1101: SourceChangeWarning: source code of class 'models.network_def.retinaface_def.SSH' has changed. you can retrieve the original source code by accessing the object's source attribute or set `torch.nn.Module.dump_patches = True` and use the patch tool to revert the changes.\n",
      "  warnings.warn(msg, SourceChangeWarning)\n",
      "\n",
      "WARNING 2024-04-25 18:04:46 warnings.py: 109] /home/aiden/miniconda3/envs/marlin/lib/python3.9/site-packages/torch/serialization.py:1101: SourceChangeWarning: source code of class 'torch.nn.modules.container.ModuleList' has changed. you can retrieve the original source code by accessing the object's source attribute or set `torch.nn.Module.dump_patches = True` and use the patch tool to revert the changes.\n",
      "  warnings.warn(msg, SourceChangeWarning)\n",
      "\n",
      "WARNING 2024-04-25 18:04:46 warnings.py: 109] /home/aiden/miniconda3/envs/marlin/lib/python3.9/site-packages/torch/serialization.py:1101: SourceChangeWarning: source code of class 'models.network_def.retinaface_def.ClassHead' has changed. you can retrieve the original source code by accessing the object's source attribute or set `torch.nn.Module.dump_patches = True` and use the patch tool to revert the changes.\n",
      "  warnings.warn(msg, SourceChangeWarning)\n",
      "\n",
      "WARNING 2024-04-25 18:04:46 warnings.py: 109] /home/aiden/miniconda3/envs/marlin/lib/python3.9/site-packages/torch/serialization.py:1101: SourceChangeWarning: source code of class 'models.network_def.retinaface_def.BboxHead' has changed. you can retrieve the original source code by accessing the object's source attribute or set `torch.nn.Module.dump_patches = True` and use the patch tool to revert the changes.\n",
      "  warnings.warn(msg, SourceChangeWarning)\n",
      "\n",
      "WARNING 2024-04-25 18:04:46 warnings.py: 109] /home/aiden/miniconda3/envs/marlin/lib/python3.9/site-packages/torch/serialization.py:1101: SourceChangeWarning: source code of class 'models.network_def.retinaface_def.LandmarkHead' has changed. you can retrieve the original source code by accessing the object's source attribute or set `torch.nn.Module.dump_patches = True` and use the patch tool to revert the changes.\n",
      "  warnings.warn(msg, SourceChangeWarning)\n",
      "\n"
     ]
    }
   ],
   "source": [
    "from TD3MF.classifier import TD3MF"
   ]
  },
  {
   "cell_type": "code",
   "execution_count": 2,
   "metadata": {},
   "outputs": [
    {
     "name": "stdout",
     "output_type": "stream",
     "text": [
      "output fim, num heads 768 2\n",
      "output fim, num heads 128 2\n",
      "output fim, num heads 128 2\n",
      "output fim, num heads 768 2\n",
      "output fim, num heads 768 2\n",
      "output fim, num heads 128 2\n",
      "------------------------------\n",
      "Hyperparameters:\n",
      "------------------------------\n",
      "Model: marlin_vit_small_ytf\n",
      "Finetune: False\n",
      "Task:binary\n",
      "Learning Rate: 0.001\n",
      "Distributed: False\n",
      "IR Layers: conv\n",
      "Num Heads: 2\n",
      "Temporal Axis: 10\n",
      "Audio Positional Encoding: True\n",
      "Fusion: mf\n",
      "Hidden layer size: 128\n",
      "lp_only: False\n",
      "Audio Backbone: eat\n",
      "------------------------------\n"
     ]
    }
   ],
   "source": [
    "ckpt = \"ckpt/celebvhq_marlin_deepfake_ft/last-v72.ckpt\"\n",
    "model = TD3MF.load_from_checkpoint(ckpt)\n"
   ]
  },
  {
   "cell_type": "code",
   "execution_count": 3,
   "metadata": {},
   "outputs": [],
   "source": [
    "import torch\n",
    "device = torch.device(\"cuda:0\" if torch.cuda.is_available() else \"cpu\")"
   ]
  },
  {
   "cell_type": "markdown",
   "metadata": {},
   "source": []
  },
  {
   "cell_type": "code",
   "execution_count": 4,
   "metadata": {},
   "outputs": [
    {
     "name": "stdout",
     "output_type": "stream",
     "text": [
      "Loading Video Model: efficientface\n",
      "Loading Audio Model: eat\n",
      "MoviePy - Writing audio in temp/audio_clip.wav\n"
     ]
    },
    {
     "name": "stderr",
     "output_type": "stream",
     "text": [
      "                                                        "
     ]
    },
    {
     "name": "stdout",
     "output_type": "stream",
     "text": [
      "MoviePy - Done.\n"
     ]
    },
    {
     "name": "stderr",
     "output_type": "stream",
     "text": [
      "\r"
     ]
    },
    {
     "name": "stdout",
     "output_type": "stream",
     "text": [
      "WARNING 2024-04-25 18:04:59 warnings.py: 109] /home/aiden/Documents/cs/2D3MF/preprocess/extract_features.py:47: UserWarning: Creating a tensor from a list of numpy.ndarrays is extremely slow. Please consider converting the list to a single numpy.ndarray with numpy.array() before converting to a tensor. (Triggered internally at ../torch/csrc/utils/tensor_new.cpp:261.)\n",
      "  video_data = torch.asarray(frames).permute(0, 3, 1, 2)\n",
      "\n"
     ]
    }
   ],
   "source": [
    "model.to(device)\n",
    "model.load_models()\n",
    "fe = model.feature_extraction(\"2D3MF_Datasets/test/SampleVideo_1280x720_1mb.mp4\")"
   ]
  },
  {
   "cell_type": "code",
   "execution_count": 7,
   "metadata": {},
   "outputs": [
    {
     "name": "stdout",
     "output_type": "stream",
     "text": [
      "MoviePy - Writing audio in temp/audio_clip.wav\n"
     ]
    },
    {
     "name": "stderr",
     "output_type": "stream",
     "text": [
      "                                                        "
     ]
    },
    {
     "name": "stdout",
     "output_type": "stream",
     "text": [
      "MoviePy - Done.\n"
     ]
    },
    {
     "name": "stderr",
     "output_type": "stream",
     "text": [
      "\r"
     ]
    },
    {
     "data": {
      "text/plain": [
       "tensor([[0.]], device='cuda:0')"
      ]
     },
     "execution_count": 7,
     "metadata": {},
     "output_type": "execute_result"
    }
   ],
   "source": [
    "model.predict(\"2D3MF_Datasets/test/SampleVideo_1280x720_1mb.mp4\")"
   ]
  },
  {
   "cell_type": "code",
   "execution_count": null,
   "metadata": {},
   "outputs": [],
   "source": []
  }
 ],
 "metadata": {
  "kernelspec": {
   "display_name": "marlin",
   "language": "python",
   "name": "python3"
  },
  "language_info": {
   "codemirror_mode": {
    "name": "ipython",
    "version": 3
   },
   "file_extension": ".py",
   "mimetype": "text/x-python",
   "name": "python",
   "nbconvert_exporter": "python",
   "pygments_lexer": "ipython3",
   "version": "3.9.19"
  }
 },
 "nbformat": 4,
 "nbformat_minor": 2
}
